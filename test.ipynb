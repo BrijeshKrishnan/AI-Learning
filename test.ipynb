{
  "nbformat": 4,
  "nbformat_minor": 0,
  "metadata": {
    "colab": {
      "provenance": [],
      "authorship_tag": "ABX9TyMNb7Os0xYushe0FCPlNMPi",
      "include_colab_link": true
    },
    "kernelspec": {
      "name": "python3",
      "display_name": "Python 3"
    },
    "language_info": {
      "name": "python"
    }
  },
  "cells": [
    {
      "cell_type": "markdown",
      "metadata": {
        "id": "view-in-github",
        "colab_type": "text"
      },
      "source": [
        "<a href=\"https://colab.research.google.com/github/BrijeshKrishnan/AI-Learning/blob/main/test.ipynb\" target=\"_parent\"><img src=\"https://colab.research.google.com/assets/colab-badge.svg\" alt=\"Open In Colab\"/></a>"
      ]
    },
    {
      "cell_type": "code",
      "execution_count": 1,
      "metadata": {
        "id": "tGjUMlNhpEKT"
      },
      "outputs": [],
      "source": [
        "# prompt: add unit test for below code\n",
        "\n",
        "import unittest\n",
        "\n",
        "def add(a, b):\n",
        "  return a + b\n",
        "\n",
        "class TestAddFunction(unittest.TestCase):\n",
        "  def test_add_positive_numbers(self):\n",
        "    self.assertEqual(add(2, 3), 5)\n",
        "\n",
        "  def test_add_negative_numbers(self):\n",
        "    self.assertEqual(add(-1, -5), -6)\n",
        "\n",
        "  def test_add_positive_and_negative_numbers(self):\n",
        "    self.assertEqual(add(10, -4), 6)\n",
        "\n",
        "  def test_add_zeros(self):\n",
        "    self.assertEqual(add(0, 0), 0)\n",
        "\n",
        "if __name__ == '__main__':\n",
        "  unittest.main(argv=['first-arg-is-ignored'], exit=False)\n"
      ]
    }
  ]
}